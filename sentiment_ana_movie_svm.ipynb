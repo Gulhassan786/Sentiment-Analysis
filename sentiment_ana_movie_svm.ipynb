{
 "cells": [
  {
   "attachments": {},
   "cell_type": "markdown",
   "metadata": {},
   "source": [
    "Setp 1:- Importing the liberies that will use throughout the code"
   ]
  },
  {
   "cell_type": "code",
   "execution_count": 1,
   "metadata": {},
   "outputs": [],
   "source": [
    "import pandas as pd\n",
    "import nltk\n",
    "from sklearn.feature_extraction.text import CountVectorizer, TfidfVectorizer\n",
    "from nltk.corpus import stopwords\n",
    "from sklearn.metrics import classification_report,confusion_matrix,accuracy_score\n",
    "from sklearn.model_selection import train_test_split\n",
    "from sklearn import svm\n",
    "from sklearn.metrics import cohen_kappa_score\n",
    "from sklearn.model_selection import RandomizedSearchCV, GridSearchCV\n",
    "import pickle\n",
    "from nltk.stem import PorterStemmer\n",
    "from nltk.tokenize import word_tokenize, sent_tokenize"
   ]
  },
  {
   "attachments": {},
   "cell_type": "markdown",
   "metadata": {},
   "source": [
    "Downlaoded the stop words in english so can clean the data (reviews)"
   ]
  },
  {
   "cell_type": "code",
   "execution_count": 2,
   "metadata": {},
   "outputs": [
    {
     "name": "stderr",
     "output_type": "stream",
     "text": [
      "[nltk_data] Downloading package stopwords to\n",
      "[nltk_data]     C:\\Users\\Dell\\AppData\\Roaming\\nltk_data...\n",
      "[nltk_data]   Package stopwords is already up-to-date!\n"
     ]
    }
   ],
   "source": [
    "nltk.download(\"stopwords\")\n",
    "stop_words = [elements.lower() for elements in set(stopwords.words(\"english\"))]"
   ]
  },
  {
   "attachments": {},
   "cell_type": "markdown",
   "metadata": {},
   "source": [
    "Imporitng the raw data and sotring it in other variable so change don't affect the raw data file"
   ]
  },
  {
   "cell_type": "code",
   "execution_count": 3,
   "metadata": {},
   "outputs": [
    {
     "data": {
      "text/html": [
       "<div>\n",
       "<style scoped>\n",
       "    .dataframe tbody tr th:only-of-type {\n",
       "        vertical-align: middle;\n",
       "    }\n",
       "\n",
       "    .dataframe tbody tr th {\n",
       "        vertical-align: top;\n",
       "    }\n",
       "\n",
       "    .dataframe thead th {\n",
       "        text-align: right;\n",
       "    }\n",
       "</style>\n",
       "<table border=\"1\" class=\"dataframe\">\n",
       "  <thead>\n",
       "    <tr style=\"text-align: right;\">\n",
       "      <th></th>\n",
       "      <th>Unnamed: 0</th>\n",
       "      <th>review</th>\n",
       "      <th>label</th>\n",
       "    </tr>\n",
       "  </thead>\n",
       "  <tbody>\n",
       "    <tr>\n",
       "      <th>0</th>\n",
       "      <td>18245</td>\n",
       "      <td>This short spoof can be found on Elite's Mille...</td>\n",
       "      <td>0</td>\n",
       "    </tr>\n",
       "    <tr>\n",
       "      <th>1</th>\n",
       "      <td>19801</td>\n",
       "      <td>A singularly unfunny musical comedy that artif...</td>\n",
       "      <td>0</td>\n",
       "    </tr>\n",
       "    <tr>\n",
       "      <th>2</th>\n",
       "      <td>3222</td>\n",
       "      <td>An excellent series, masterfully acted and dir...</td>\n",
       "      <td>1</td>\n",
       "    </tr>\n",
       "    <tr>\n",
       "      <th>3</th>\n",
       "      <td>6010</td>\n",
       "      <td>The master of movie spectacle Cecil B. De Mill...</td>\n",
       "      <td>1</td>\n",
       "    </tr>\n",
       "    <tr>\n",
       "      <th>4</th>\n",
       "      <td>16355</td>\n",
       "      <td>I was gifted with this movie as it had such a ...</td>\n",
       "      <td>0</td>\n",
       "    </tr>\n",
       "  </tbody>\n",
       "</table>\n",
       "</div>"
      ],
      "text/plain": [
       "   Unnamed: 0                                             review  label\n",
       "0       18245  This short spoof can be found on Elite's Mille...      0\n",
       "1       19801  A singularly unfunny musical comedy that artif...      0\n",
       "2        3222  An excellent series, masterfully acted and dir...      1\n",
       "3        6010  The master of movie spectacle Cecil B. De Mill...      1\n",
       "4       16355  I was gifted with this movie as it had such a ...      0"
      ]
     },
     "execution_count": 3,
     "metadata": {},
     "output_type": "execute_result"
    }
   ],
   "source": [
    "raw_movies_data = pd.read_csv(\"IMDB_sample.csv\")\n",
    "moives = raw_movies_data\n",
    "moives.head()"
   ]
  },
  {
   "cell_type": "code",
   "execution_count": 4,
   "metadata": {},
   "outputs": [
    {
     "data": {
      "text/plain": [
       "7501"
      ]
     },
     "execution_count": 4,
     "metadata": {},
     "output_type": "execute_result"
    }
   ],
   "source": [
    "len(raw_movies_data[\"review\"].index)"
   ]
  },
  {
   "attachments": {},
   "cell_type": "markdown",
   "metadata": {},
   "source": [
    "Setp 2:- Data Preprocessing "
   ]
  },
  {
   "cell_type": "code",
   "execution_count": 5,
   "metadata": {},
   "outputs": [],
   "source": [
    "y = moives[\"label\"]\n",
    "x = moives.drop(columns=[\"Unnamed: 0\" ,\"label\"])"
   ]
  },
  {
   "cell_type": "code",
   "execution_count": 6,
   "metadata": {},
   "outputs": [
    {
     "data": {
      "text/html": [
       "<div>\n",
       "<style scoped>\n",
       "    .dataframe tbody tr th:only-of-type {\n",
       "        vertical-align: middle;\n",
       "    }\n",
       "\n",
       "    .dataframe tbody tr th {\n",
       "        vertical-align: top;\n",
       "    }\n",
       "\n",
       "    .dataframe thead th {\n",
       "        text-align: right;\n",
       "    }\n",
       "</style>\n",
       "<table border=\"1\" class=\"dataframe\">\n",
       "  <thead>\n",
       "    <tr style=\"text-align: right;\">\n",
       "      <th></th>\n",
       "      <th>review</th>\n",
       "    </tr>\n",
       "  </thead>\n",
       "  <tbody>\n",
       "    <tr>\n",
       "      <th>0</th>\n",
       "      <td>this short spoof can be found on elite's mille...</td>\n",
       "    </tr>\n",
       "    <tr>\n",
       "      <th>1</th>\n",
       "      <td>a singularly unfunny musical comedy that artif...</td>\n",
       "    </tr>\n",
       "    <tr>\n",
       "      <th>2</th>\n",
       "      <td>an excellent series, masterfully acted and dir...</td>\n",
       "    </tr>\n",
       "    <tr>\n",
       "      <th>3</th>\n",
       "      <td>the master of movie spectacle cecil b. de mill...</td>\n",
       "    </tr>\n",
       "    <tr>\n",
       "      <th>4</th>\n",
       "      <td>i was gifted with this movie as it had such a ...</td>\n",
       "    </tr>\n",
       "  </tbody>\n",
       "</table>\n",
       "</div>"
      ],
      "text/plain": [
       "                                              review\n",
       "0  this short spoof can be found on elite's mille...\n",
       "1  a singularly unfunny musical comedy that artif...\n",
       "2  an excellent series, masterfully acted and dir...\n",
       "3  the master of movie spectacle cecil b. de mill...\n",
       "4  i was gifted with this movie as it had such a ..."
      ]
     },
     "execution_count": 6,
     "metadata": {},
     "output_type": "execute_result"
    }
   ],
   "source": [
    "x[\"review\"] = x[\"review\"] .str.lower()\n",
    "x.head()"
   ]
  },
  {
   "cell_type": "code",
   "execution_count": 7,
   "metadata": {},
   "outputs": [
    {
     "data": {
      "text/html": [
       "<div>\n",
       "<style scoped>\n",
       "    .dataframe tbody tr th:only-of-type {\n",
       "        vertical-align: middle;\n",
       "    }\n",
       "\n",
       "    .dataframe tbody tr th {\n",
       "        vertical-align: top;\n",
       "    }\n",
       "\n",
       "    .dataframe thead th {\n",
       "        text-align: right;\n",
       "    }\n",
       "</style>\n",
       "<table border=\"1\" class=\"dataframe\">\n",
       "  <thead>\n",
       "    <tr style=\"text-align: right;\">\n",
       "      <th></th>\n",
       "      <th>review</th>\n",
       "    </tr>\n",
       "  </thead>\n",
       "  <tbody>\n",
       "    <tr>\n",
       "      <th>0</th>\n",
       "      <td>this short spoof can be found on elite s mille...</td>\n",
       "    </tr>\n",
       "    <tr>\n",
       "      <th>1</th>\n",
       "      <td>a singularly unfunny musical comedy that artif...</td>\n",
       "    </tr>\n",
       "    <tr>\n",
       "      <th>2</th>\n",
       "      <td>an excellent series  masterfully acted and dir...</td>\n",
       "    </tr>\n",
       "    <tr>\n",
       "      <th>3</th>\n",
       "      <td>the master of movie spectacle cecil b  de mill...</td>\n",
       "    </tr>\n",
       "    <tr>\n",
       "      <th>4</th>\n",
       "      <td>i was gifted with this movie as it had such a ...</td>\n",
       "    </tr>\n",
       "  </tbody>\n",
       "</table>\n",
       "</div>"
      ],
      "text/plain": [
       "                                              review\n",
       "0  this short spoof can be found on elite s mille...\n",
       "1  a singularly unfunny musical comedy that artif...\n",
       "2  an excellent series  masterfully acted and dir...\n",
       "3  the master of movie spectacle cecil b  de mill...\n",
       "4  i was gifted with this movie as it had such a ..."
      ]
     },
     "execution_count": 7,
     "metadata": {},
     "output_type": "execute_result"
    }
   ],
   "source": [
    "x.replace(\"[^a-zA-Z]\",\" \", regex=True, inplace=True)\n",
    "x.head()"
   ]
  },
  {
   "attachments": {},
   "cell_type": "markdown",
   "metadata": {},
   "source": [
    "Steming "
   ]
  },
  {
   "cell_type": "code",
   "execution_count": 16,
   "metadata": {},
   "outputs": [
    {
     "name": "stdout",
     "output_type": "stream",
     "text": [
      "where are you going to buy book\n"
     ]
    }
   ],
   "source": [
    "porter = PorterStemmer()\n",
    "sentence = \"where are you going to buy books\"\n",
    "print(porter.stem(sentence))"
   ]
  },
  {
   "cell_type": "code",
   "execution_count": 20,
   "metadata": {},
   "outputs": [
    {
     "name": "stdout",
     "output_type": "stream",
     "text": [
      "showing info https://raw.githubusercontent.com/nltk/nltk_data/gh-pages/index.xml\n"
     ]
    },
    {
     "data": {
      "text/plain": [
       "True"
      ]
     },
     "execution_count": 20,
     "metadata": {},
     "output_type": "execute_result"
    }
   ],
   "source": [
    "nltk.download()"
   ]
  },
  {
   "cell_type": "code",
   "execution_count": 23,
   "metadata": {},
   "outputs": [
    {
     "data": {
      "text/html": [
       "<div>\n",
       "<style scoped>\n",
       "    .dataframe tbody tr th:only-of-type {\n",
       "        vertical-align: middle;\n",
       "    }\n",
       "\n",
       "    .dataframe tbody tr th {\n",
       "        vertical-align: top;\n",
       "    }\n",
       "\n",
       "    .dataframe thead th {\n",
       "        text-align: right;\n",
       "    }\n",
       "</style>\n",
       "<table border=\"1\" class=\"dataframe\">\n",
       "  <thead>\n",
       "    <tr style=\"text-align: right;\">\n",
       "      <th></th>\n",
       "      <th>review</th>\n",
       "    </tr>\n",
       "  </thead>\n",
       "  <tbody>\n",
       "    <tr>\n",
       "      <th>0</th>\n",
       "      <td>thi short spoof can be found on elit s millenn...</td>\n",
       "    </tr>\n",
       "    <tr>\n",
       "      <th>1</th>\n",
       "      <td>a singularli unfunni music comedi that artific...</td>\n",
       "    </tr>\n",
       "    <tr>\n",
       "      <th>2</th>\n",
       "      <td>an excel seri master act and direct but unlov ...</td>\n",
       "    </tr>\n",
       "    <tr>\n",
       "      <th>3</th>\n",
       "      <td>the master of movi spectacl cecil b de mill go...</td>\n",
       "    </tr>\n",
       "    <tr>\n",
       "      <th>4</th>\n",
       "      <td>i wa gift with thi movi as it had such a great...</td>\n",
       "    </tr>\n",
       "  </tbody>\n",
       "</table>\n",
       "</div>"
      ],
      "text/plain": [
       "                                              review\n",
       "0  thi short spoof can be found on elit s millenn...\n",
       "1  a singularli unfunni music comedi that artific...\n",
       "2  an excel seri master act and direct but unlov ...\n",
       "3  the master of movi spectacl cecil b de mill go...\n",
       "4  i wa gift with thi movi as it had such a great..."
      ]
     },
     "execution_count": 23,
     "metadata": {},
     "output_type": "execute_result"
    }
   ],
   "source": [
    "sentence = \"where are you going to buy books, ali was doing great jobs\"\n",
    "def steming (sentence):\n",
    "    \n",
    "    token_words = word_tokenize(sentence)\n",
    "\n",
    "    stem_sentance = []\n",
    "    for word in token_words:\n",
    "        stem_sentance.append(porter.stem(word))\n",
    "        stem_sentance.append(\" \")\n",
    "\n",
    "    return \"\".join(stem_sentance)\n",
    "\n",
    "    # return \" \".join([porter.stem(word) for word in sentence.split()])\n",
    "\n",
    "x[\"review\"] = x[\"review\"].apply(lambda x: steming(x))\n",
    "\n",
    "x.head()"
   ]
  },
  {
   "cell_type": "code",
   "execution_count": null,
   "metadata": {},
   "outputs": [],
   "source": [
    "print(x)"
   ]
  },
  {
   "cell_type": "code",
   "execution_count": 24,
   "metadata": {},
   "outputs": [
    {
     "data": {
      "text/html": [
       "<div>\n",
       "<style scoped>\n",
       "    .dataframe tbody tr th:only-of-type {\n",
       "        vertical-align: middle;\n",
       "    }\n",
       "\n",
       "    .dataframe tbody tr th {\n",
       "        vertical-align: top;\n",
       "    }\n",
       "\n",
       "    .dataframe thead th {\n",
       "        text-align: right;\n",
       "    }\n",
       "</style>\n",
       "<table border=\"1\" class=\"dataframe\">\n",
       "  <thead>\n",
       "    <tr style=\"text-align: right;\">\n",
       "      <th></th>\n",
       "      <th>review</th>\n",
       "    </tr>\n",
       "  </thead>\n",
       "  <tbody>\n",
       "    <tr>\n",
       "      <th>0</th>\n",
       "      <td>thi,short,spoof,found,elit,millennium,edit,dvd...</td>\n",
       "    </tr>\n",
       "    <tr>\n",
       "      <th>1</th>\n",
       "      <td>singularli,unfunni,music,comedi,artifici,tri,m...</td>\n",
       "    </tr>\n",
       "    <tr>\n",
       "      <th>2</th>\n",
       "      <td>excel,seri,master,act,direct,unlov,told,mr,dei...</td>\n",
       "    </tr>\n",
       "    <tr>\n",
       "      <th>3</th>\n",
       "      <td>master,movi,spectacl,cecil,b,de,mill,goe,west,...</td>\n",
       "    </tr>\n",
       "    <tr>\n",
       "      <th>4</th>\n",
       "      <td>wa,gift,thi,movi,great,premis,friendship,three...</td>\n",
       "    </tr>\n",
       "  </tbody>\n",
       "</table>\n",
       "</div>"
      ],
      "text/plain": [
       "                                              review\n",
       "0  thi,short,spoof,found,elit,millennium,edit,dvd...\n",
       "1  singularli,unfunni,music,comedi,artifici,tri,m...\n",
       "2  excel,seri,master,act,direct,unlov,told,mr,dei...\n",
       "3  master,movi,spectacl,cecil,b,de,mill,goe,west,...\n",
       "4  wa,gift,thi,movi,great,premis,friendship,three..."
      ]
     },
     "execution_count": 24,
     "metadata": {},
     "output_type": "execute_result"
    }
   ],
   "source": [
    "def remove_stop (x):\n",
    "    return \",\".join([words for words in str(x).split() if words not in stop_words])\n",
    "\n",
    "x[\"review\"] = x[\"review\"].apply(lambda x: remove_stop(x))\n",
    "x.head()\n",
    "# x=x.drop([1], axis=0)"
   ]
  },
  {
   "cell_type": "code",
   "execution_count": 9,
   "metadata": {},
   "outputs": [],
   "source": [
    "# y=y.drop(1)"
   ]
  },
  {
   "cell_type": "code",
   "execution_count": 10,
   "metadata": {},
   "outputs": [
    {
     "data": {
      "text/plain": [
       "7501"
      ]
     },
     "execution_count": 10,
     "metadata": {},
     "output_type": "execute_result"
    }
   ],
   "source": [
    "len(y)"
   ]
  },
  {
   "cell_type": "code",
   "execution_count": 25,
   "metadata": {},
   "outputs": [],
   "source": [
    "X_train, X_test, y_train, y_test = train_test_split(x,y,\n",
    "    train_size=0.8, shuffle = True, random_state=8)"
   ]
  },
  {
   "cell_type": "code",
   "execution_count": 12,
   "metadata": {},
   "outputs": [],
   "source": [
    "# print(X_train.shape)\n",
    "# print(X_test.shape)\n",
    "# print(y_train.shape)\n",
    "# print(y_test.shape)"
   ]
  },
  {
   "cell_type": "code",
   "execution_count": 13,
   "metadata": {},
   "outputs": [],
   "source": [
    "# X_train, x_test, y_train, Y_test = train_test_split(X_train,y_train,\n",
    "#     test_size=0.25, shuffle = True, random_state=8)"
   ]
  },
  {
   "cell_type": "code",
   "execution_count": 14,
   "metadata": {},
   "outputs": [],
   "source": [
    "# print(\"X Training data: \",X_train.shape)\n",
    "# print(\"X Testing data \",X_test.shape)\n",
    "# print(\"X validation data \",x_test.shape)\n",
    "# print(\"y Testing data \",y_train.shape)\n",
    "# print(\"y Testing data \",y_test.shape)\n",
    "# print(\"X Testing data \",Y_test.shape)"
   ]
  },
  {
   "cell_type": "code",
   "execution_count": 26,
   "metadata": {},
   "outputs": [],
   "source": [
    "x_train_array = []\n",
    "for row in range(0, len(X_train.index)):\n",
    "    x_train_array.append(\",\".join(str(x) for x in X_train.iloc[row] ))"
   ]
  },
  {
   "cell_type": "code",
   "execution_count": 27,
   "metadata": {},
   "outputs": [],
   "source": [
    "x_test_array = []\n",
    "for row in range (0, len(X_test.index)):\n",
    "    x_test_array.append(\",\".join(str(x) for x in X_test.iloc[row]))"
   ]
  },
  {
   "cell_type": "code",
   "execution_count": 17,
   "metadata": {},
   "outputs": [],
   "source": [
    "# x_val_array = []\n",
    "# for row in range(0, len(x_test.index)):\n",
    "#     x_val_array.append(\",\".join(str(x) for x in X_val.iloc[row] ))"
   ]
  },
  {
   "attachments": {},
   "cell_type": "markdown",
   "metadata": {},
   "source": [
    "Using Count Vectorizer here to creat BOW"
   ]
  },
  {
   "cell_type": "code",
   "execution_count": 18,
   "metadata": {},
   "outputs": [],
   "source": [
    "countervector = CountVectorizer()\n",
    "cv_train_dataset = countervector.fit_transform(x_train_array)\n",
    "cv_test_dataset = countervector.transform(x_test_array)"
   ]
  },
  {
   "attachments": {},
   "cell_type": "markdown",
   "metadata": {},
   "source": [
    "Using TFIDF to create BOW"
   ]
  },
  {
   "cell_type": "code",
   "execution_count": 19,
   "metadata": {},
   "outputs": [],
   "source": [
    "# print(X_train.shape)\n",
    "# print(X_test.shape)\n",
    "# print(x_test.shape)"
   ]
  },
  {
   "cell_type": "code",
   "execution_count": 20,
   "metadata": {},
   "outputs": [],
   "source": [
    "# print(y_train.shape)\n",
    "# print(y_test.shape)\n",
    "# print(Y_test.shape)"
   ]
  },
  {
   "cell_type": "code",
   "execution_count": 28,
   "metadata": {},
   "outputs": [],
   "source": [
    "tfidfvector = TfidfVectorizer()\n",
    "tfidf_train_dataset = tfidfvector.fit_transform(x_train_array)\n",
    "# tfidf_test_val_dataset = tfidfvector.transform(x_val_array)\n",
    "tfidf_test_dataset = tfidfvector.transform(x_test_array)"
   ]
  },
  {
   "attachments": {},
   "cell_type": "markdown",
   "metadata": {},
   "source": [
    "Step 3:- Modeling"
   ]
  },
  {
   "attachments": {},
   "cell_type": "markdown",
   "metadata": {},
   "source": [
    "SVM with count vectorizer and linear karnel"
   ]
  },
  {
   "cell_type": "code",
   "execution_count": 22,
   "metadata": {},
   "outputs": [],
   "source": [
    "# SVM = svm.SVC(C=1.05, kernel='linear', degree=3, gamma='auto')\n",
    "# SVM.fit(cv_train_dataset, y_train)\n",
    "# predictions = SVM.predict(cv_test_dataset)\n",
    "\n",
    "# matrix=confusion_matrix(y_test,predictions)\n",
    "# print(matrix)\n",
    "# score=accuracy_score(y_test,predictions)\n",
    "# print(score)\n",
    "# report=classification_report(y_test,predictions)\n",
    "# print(report)"
   ]
  },
  {
   "attachments": {},
   "cell_type": "markdown",
   "metadata": {},
   "source": [
    "SVM with tfidf and linear karnel"
   ]
  },
  {
   "cell_type": "code",
   "execution_count": 29,
   "metadata": {},
   "outputs": [
    {
     "name": "stdout",
     "output_type": "stream",
     "text": [
      "[[671  81]\n",
      " [ 87 662]]\n",
      "0.8880746169220519\n",
      "              precision    recall  f1-score   support\n",
      "\n",
      "           0       0.89      0.89      0.89       752\n",
      "           1       0.89      0.88      0.89       749\n",
      "\n",
      "    accuracy                           0.89      1501\n",
      "   macro avg       0.89      0.89      0.89      1501\n",
      "weighted avg       0.89      0.89      0.89      1501\n",
      "\n",
      "0.7761447627028668\n"
     ]
    }
   ],
   "source": [
    "SVM = svm.SVC(kernel='linear', gamma=1.0, C=1.05)\n",
    "SVM.fit(tfidf_train_dataset, y_train)\n",
    "# predictions = SVM.predict(tfidf_test_val_dataset)\n",
    "predictions = SVM.predict(tfidf_test_dataset)\n",
    "matrix=confusion_matrix(y_test,predictions)\n",
    "print(matrix)\n",
    "score=accuracy_score(y_test,predictions)\n",
    "print(score)\n",
    "report=classification_report(y_test,predictions)\n",
    "print(report)\n",
    "kappa = cohen_kappa_score(y_test, predictions)\n",
    "print(kappa)"
   ]
  },
  {
   "cell_type": "code",
   "execution_count": 24,
   "metadata": {},
   "outputs": [],
   "source": [
    "pickle.dump(SVM, open(\"svm.pkl\",\"wb\"))\n",
    "# model_pickl = pickle.load(open(\"model.pkl\",\"rb\"))\n",
    "pickle.dump(tfidfvector,open(\"tfidf.pkl\",\"wb\"))"
   ]
  }
 ],
 "metadata": {
  "kernelspec": {
   "display_name": "Python 3",
   "language": "python",
   "name": "python3"
  },
  "language_info": {
   "codemirror_mode": {
    "name": "ipython",
    "version": 3
   },
   "file_extension": ".py",
   "mimetype": "text/x-python",
   "name": "python",
   "nbconvert_exporter": "python",
   "pygments_lexer": "ipython3",
   "version": "3.10.7"
  },
  "orig_nbformat": 4,
  "vscode": {
   "interpreter": {
    "hash": "76d7c06053c3456e5600312cec90888656fc0ed30c03d8425b9dac6e4fc8e014"
   }
  }
 },
 "nbformat": 4,
 "nbformat_minor": 2
}
